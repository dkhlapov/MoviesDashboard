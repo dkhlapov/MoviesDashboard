{
 "cells": [
  {
   "cell_type": "markdown",
   "metadata": {},
   "source": [
    "# Scripting Exam\n",
    "## Top 200 movies by popularity\n",
    "### Genre: Crime\n",
    "### Years: 1990-2010\n"
   ]
  },
  {
   "cell_type": "markdown",
   "metadata": {},
   "source": [
    "## Task 1. Data Collection & Ingestion."
   ]
  },
  {
   "cell_type": "code",
   "execution_count": 1,
   "metadata": {},
   "outputs": [],
   "source": [
    "from __future__ import print_function\n",
    "from ipywidgets import interact, interactive, fixed, interact_manual\n",
    "import ipywidgets as widgets\n",
    "import pandas as pd\n",
    "import requests\n",
    "import matplotlib as plt\n",
    "import numpy as np\n",
    "import subprocess\n",
    "import os \n",
    "import plotly.express as px\n",
    "import plotly.graph_objects as go"
   ]
  },
  {
   "cell_type": "markdown",
   "metadata": {},
   "source": [
    "### Remark\n",
    "I had to create a csv file in advance because the queries took too long. Here is the process of creating the dataframe that I exported to my github.\n",
    "\n",
    "**NB:** The key can be outdated, so please contact me if it doesn't work!"
   ]
  },
  {
   "cell_type": "code",
   "execution_count": 2,
   "metadata": {},
   "outputs": [],
   "source": [
    "#api_key = '8e4bdf3116ca94d71b9c84d390e69490'\n",
    "#columns = ['Movie', 'Budget', 'Box office', 'Release year', 'Rating', 'Popularity', 'Director', 'Producer']\n",
    "#df = pd.DataFrame(columns=columns)\n",
    "#for i in range(1, 11):\n",
    "#    response = requests.get('https://api.themoviedb.org/3/discover/movie?api_key=' + api_key + '&language=en-US&sort_by=popularity.desc&include_adult=false&page='+ str(i) +'&primary_release_date.gte=1990-01-01&primary_release_date.lte=2010-01-01&with_genres=80')\n",
    "#    page = response.json()\n",
    "#    films = page['results']\n",
    "#    for film in films:\n",
    "#        film_revenue = requests.get('https://api.themoviedb.org/3/movie/'+ str(film['id']) +'?api_key='+ api_key+'&language=en-US')\n",
    "#        film_revenue = film_revenue.json()\n",
    "#        film_crew = requests.get('https://api.themoviedb.org/3/movie/'+ str(film['id']) +'/credits?api_key='+ api_key+'&language=en-US')\n",
    "#        film_crew = film_crew.json()\n",
    "#        crew = film_crew['crew']\n",
    "#        producer = ''\n",
    "#        director = ''\n",
    "#        for member in crew:\n",
    "#            if member['job'] == 'Producer':\n",
    "#                producer += member['name'] + \", \"\n",
    "#            if member['job'] == 'Director':\n",
    "#                director += member['name'] + \", \"\n",
    "#        producer = producer[:-2]\n",
    "#        director = director[:-2]\n",
    "#        df.loc[len(df)]=[film['title'], int(film_revenue['budget']), int(film_revenue['revenue']), int(film_revenue['release_date'][:4]), float(film_revenue['vote_average']), float(film_revenue['popularity']), director, producer]\n",
    "#df = df.sort_values(by='Popularity', ascending=False).reset_index(drop=True)\n",
    "#df.index.names = ['id']\n",
    "#display(df)\n",
    "#df.to_csv('out.csv', sep=';', encoding='utf-8')"
   ]
  },
  {
   "cell_type": "code",
   "execution_count": 3,
   "metadata": {
    "scrolled": false
   },
   "outputs": [
    {
     "data": {
      "text/html": [
       "<div>\n",
       "<style scoped>\n",
       "    .dataframe tbody tr th:only-of-type {\n",
       "        vertical-align: middle;\n",
       "    }\n",
       "\n",
       "    .dataframe tbody tr th {\n",
       "        vertical-align: top;\n",
       "    }\n",
       "\n",
       "    .dataframe thead th {\n",
       "        text-align: right;\n",
       "    }\n",
       "</style>\n",
       "<table border=\"1\" class=\"dataframe\">\n",
       "  <thead>\n",
       "    <tr style=\"text-align: right;\">\n",
       "      <th></th>\n",
       "      <th>Movie</th>\n",
       "      <th>Budget</th>\n",
       "      <th>Box office</th>\n",
       "      <th>Release year</th>\n",
       "      <th>Rating</th>\n",
       "      <th>Popularity</th>\n",
       "      <th>Director</th>\n",
       "      <th>Producer</th>\n",
       "    </tr>\n",
       "  </thead>\n",
       "  <tbody>\n",
       "    <tr>\n",
       "      <th>0</th>\n",
       "      <td>The Dark Knight</td>\n",
       "      <td>185000000</td>\n",
       "      <td>1004558444</td>\n",
       "      <td>2008</td>\n",
       "      <td>8.4</td>\n",
       "      <td>54.602</td>\n",
       "      <td>Christopher Nolan</td>\n",
       "      <td>Charles Roven, Christopher Nolan, Emma Thomas,...</td>\n",
       "    </tr>\n",
       "    <tr>\n",
       "      <th>1</th>\n",
       "      <td>Se7en</td>\n",
       "      <td>33000000</td>\n",
       "      <td>327311859</td>\n",
       "      <td>1995</td>\n",
       "      <td>8.3</td>\n",
       "      <td>50.812</td>\n",
       "      <td>David Fincher</td>\n",
       "      <td>Arnold Kopelson, Phyllis Carlyle</td>\n",
       "    </tr>\n",
       "    <tr>\n",
       "      <th>2</th>\n",
       "      <td>Bandits</td>\n",
       "      <td>75000000</td>\n",
       "      <td>67631903</td>\n",
       "      <td>2001</td>\n",
       "      <td>6.2</td>\n",
       "      <td>46.950</td>\n",
       "      <td>Barry Levinson</td>\n",
       "      <td>Barry Levinson, Paula Weinstein, Arnold Rifkin...</td>\n",
       "    </tr>\n",
       "    <tr>\n",
       "      <th>3</th>\n",
       "      <td>The Shawshank Redemption</td>\n",
       "      <td>25000000</td>\n",
       "      <td>28341469</td>\n",
       "      <td>1994</td>\n",
       "      <td>8.7</td>\n",
       "      <td>46.524</td>\n",
       "      <td>Frank Darabont</td>\n",
       "      <td>Niki Marvin</td>\n",
       "    </tr>\n",
       "    <tr>\n",
       "      <th>4</th>\n",
       "      <td>Juice</td>\n",
       "      <td>5000000</td>\n",
       "      <td>20146880</td>\n",
       "      <td>1992</td>\n",
       "      <td>7.0</td>\n",
       "      <td>44.969</td>\n",
       "      <td>Ernest R. Dickerson</td>\n",
       "      <td>NaN</td>\n",
       "    </tr>\n",
       "    <tr>\n",
       "      <th>...</th>\n",
       "      <td>...</td>\n",
       "      <td>...</td>\n",
       "      <td>...</td>\n",
       "      <td>...</td>\n",
       "      <td>...</td>\n",
       "      <td>...</td>\n",
       "      <td>...</td>\n",
       "      <td>...</td>\n",
       "    </tr>\n",
       "    <tr>\n",
       "      <th>195</th>\n",
       "      <td>Traitor</td>\n",
       "      <td>22000000</td>\n",
       "      <td>23530831</td>\n",
       "      <td>2008</td>\n",
       "      <td>6.6</td>\n",
       "      <td>12.014</td>\n",
       "      <td>Jeffrey Nachmanoff</td>\n",
       "      <td>Don Cheadle, Jeffrey Silver, David Hoberman, T...</td>\n",
       "    </tr>\n",
       "    <tr>\n",
       "      <th>196</th>\n",
       "      <td>Absolute Power</td>\n",
       "      <td>50000000</td>\n",
       "      <td>50068310</td>\n",
       "      <td>1997</td>\n",
       "      <td>6.6</td>\n",
       "      <td>12.004</td>\n",
       "      <td>Clint Eastwood</td>\n",
       "      <td>Clint Eastwood, Michael Maurer, Karen S. Spiegel</td>\n",
       "    </tr>\n",
       "    <tr>\n",
       "      <th>197</th>\n",
       "      <td>Unleashed</td>\n",
       "      <td>45000000</td>\n",
       "      <td>50871113</td>\n",
       "      <td>2005</td>\n",
       "      <td>6.7</td>\n",
       "      <td>11.982</td>\n",
       "      <td>Louis Leterrier</td>\n",
       "      <td>Luc Besson, Jet Li, Pierre Spengler, Steve Cha...</td>\n",
       "    </tr>\n",
       "    <tr>\n",
       "      <th>198</th>\n",
       "      <td>Irreversible</td>\n",
       "      <td>0</td>\n",
       "      <td>792200</td>\n",
       "      <td>2002</td>\n",
       "      <td>7.2</td>\n",
       "      <td>11.981</td>\n",
       "      <td>Gaspar Noé</td>\n",
       "      <td>Christophe Rossignon</td>\n",
       "    </tr>\n",
       "    <tr>\n",
       "      <th>199</th>\n",
       "      <td>The Girl Who Played with Fire</td>\n",
       "      <td>4422952</td>\n",
       "      <td>67126795</td>\n",
       "      <td>2009</td>\n",
       "      <td>7.0</td>\n",
       "      <td>11.977</td>\n",
       "      <td>Daniel Alfredson</td>\n",
       "      <td>Søren Stærmose</td>\n",
       "    </tr>\n",
       "  </tbody>\n",
       "</table>\n",
       "<p>200 rows × 8 columns</p>\n",
       "</div>"
      ],
      "text/plain": [
       "                             Movie     Budget  Box office  Release year  \\\n",
       "0                  The Dark Knight  185000000  1004558444          2008   \n",
       "1                            Se7en   33000000   327311859          1995   \n",
       "2                          Bandits   75000000    67631903          2001   \n",
       "3         The Shawshank Redemption   25000000    28341469          1994   \n",
       "4                            Juice    5000000    20146880          1992   \n",
       "..                             ...        ...         ...           ...   \n",
       "195                        Traitor   22000000    23530831          2008   \n",
       "196                 Absolute Power   50000000    50068310          1997   \n",
       "197                      Unleashed   45000000    50871113          2005   \n",
       "198                   Irreversible          0      792200          2002   \n",
       "199  The Girl Who Played with Fire    4422952    67126795          2009   \n",
       "\n",
       "     Rating  Popularity             Director  \\\n",
       "0       8.4      54.602    Christopher Nolan   \n",
       "1       8.3      50.812        David Fincher   \n",
       "2       6.2      46.950       Barry Levinson   \n",
       "3       8.7      46.524       Frank Darabont   \n",
       "4       7.0      44.969  Ernest R. Dickerson   \n",
       "..      ...         ...                  ...   \n",
       "195     6.6      12.014   Jeffrey Nachmanoff   \n",
       "196     6.6      12.004       Clint Eastwood   \n",
       "197     6.7      11.982      Louis Leterrier   \n",
       "198     7.2      11.981           Gaspar Noé   \n",
       "199     7.0      11.977     Daniel Alfredson   \n",
       "\n",
       "                                              Producer  \n",
       "0    Charles Roven, Christopher Nolan, Emma Thomas,...  \n",
       "1                     Arnold Kopelson, Phyllis Carlyle  \n",
       "2    Barry Levinson, Paula Weinstein, Arnold Rifkin...  \n",
       "3                                          Niki Marvin  \n",
       "4                                                  NaN  \n",
       "..                                                 ...  \n",
       "195  Don Cheadle, Jeffrey Silver, David Hoberman, T...  \n",
       "196   Clint Eastwood, Michael Maurer, Karen S. Spiegel  \n",
       "197  Luc Besson, Jet Li, Pierre Spengler, Steve Cha...  \n",
       "198                               Christophe Rossignon  \n",
       "199                                     Søren Stærmose  \n",
       "\n",
       "[200 rows x 8 columns]"
      ]
     },
     "execution_count": 3,
     "metadata": {},
     "output_type": "execute_result"
    }
   ],
   "source": [
    "df = pd.read_csv('https://raw.githubusercontent.com/dkhlapov/MoviesDashboard/master/out.csv', sep=';', encoding='utf-8')\n",
    "df = df.set_index('id').reset_index(drop=True)\n",
    "df"
   ]
  },
  {
   "cell_type": "markdown",
   "metadata": {},
   "source": [
    "## Tasks 2 & 3. Data Insight and Graphical Illustration."
   ]
  },
  {
   "cell_type": "markdown",
   "metadata": {},
   "source": [
    "### Task 2.1. Which are the most popular movies in your genre?\n",
    "**Five most popular Crime movies**"
   ]
  },
  {
   "cell_type": "code",
   "execution_count": 4,
   "metadata": {},
   "outputs": [
    {
     "data": {
      "application/vnd.jupyter.widget-view+json": {
       "model_id": "ab2784b8b54e438aae14c35d99addcb3",
       "version_major": 2,
       "version_minor": 0
      },
      "text/plain": [
       "interactive(children=(IntSlider(value=10, description='amount', max=20, min=5), Output()), _dom_classes=('widg…"
      ]
     },
     "metadata": {},
     "output_type": "display_data"
    }
   ],
   "source": [
    "def most_popular(amount):\n",
    "    most_popular_df = pd.DataFrame(df[['Movie', 'Popularity']].head(amount)).reset_index(drop=True)\n",
    "    display(most_popular_df)\n",
    "    fig = px.bar(most_popular_df, x='Movie', y='Popularity')\n",
    "    fig.show()\n",
    "interact(most_popular, amount=widgets.IntSlider(min=5, max=20, step=1, value=10));                                 "
   ]
  },
  {
   "cell_type": "markdown",
   "metadata": {},
   "source": [
    "### Task 2.2. Which are the best movies in your genre?\n",
    "**Five best Crime movies by rating**"
   ]
  },
  {
   "cell_type": "code",
   "execution_count": 5,
   "metadata": {},
   "outputs": [
    {
     "data": {
      "application/vnd.jupyter.widget-view+json": {
       "model_id": "88dd81ef383f411ead94bee55ee54249",
       "version_major": 2,
       "version_minor": 0
      },
      "text/plain": [
       "interactive(children=(IntSlider(value=10, description='amount', max=20, min=5), Output()), _dom_classes=('widg…"
      ]
     },
     "metadata": {},
     "output_type": "display_data"
    }
   ],
   "source": [
    "def best_rating(amount):\n",
    "    best_rating_df = pd.DataFrame(df.sort_values(by='Rating', ascending=False)[['Movie', 'Rating']].head(amount)).reset_index(drop=True)\n",
    "    display(best_rating_df)\n",
    "    fig = px.bar(best_rating_df, x='Movie', y='Rating')\n",
    "    fig.show()\n",
    "interact(best_rating, amount=widgets.IntSlider(min=5, max=20, step=1, value=10));                             "
   ]
  },
  {
   "cell_type": "markdown",
   "metadata": {},
   "source": [
    "### Task 2.3. Are these the same?\n",
    "There are 6 movies that are present in both lists (The Shawshank Redemption, Pulp Fiction, The Dark Knight, GoodFellas, Se7en, Léon: The Professional)"
   ]
  },
  {
   "cell_type": "markdown",
   "metadata": {},
   "source": [
    "### Task 2.4. During your timeframe, when was your genre the most & least popular?"
   ]
  },
  {
   "cell_type": "code",
   "execution_count": 6,
   "metadata": {},
   "outputs": [
    {
     "data": {
      "text/html": [
       "<div>\n",
       "<style scoped>\n",
       "    .dataframe tbody tr th:only-of-type {\n",
       "        vertical-align: middle;\n",
       "    }\n",
       "\n",
       "    .dataframe tbody tr th {\n",
       "        vertical-align: top;\n",
       "    }\n",
       "\n",
       "    .dataframe thead th {\n",
       "        text-align: right;\n",
       "    }\n",
       "</style>\n",
       "<table border=\"1\" class=\"dataframe\">\n",
       "  <thead>\n",
       "    <tr style=\"text-align: right;\">\n",
       "      <th></th>\n",
       "      <th>Movies</th>\n",
       "    </tr>\n",
       "  </thead>\n",
       "  <tbody>\n",
       "    <tr>\n",
       "      <th>2001-2005</th>\n",
       "      <td>56</td>\n",
       "    </tr>\n",
       "    <tr>\n",
       "      <th>2006-2010</th>\n",
       "      <td>55</td>\n",
       "    </tr>\n",
       "    <tr>\n",
       "      <th>1990-1995</th>\n",
       "      <td>46</td>\n",
       "    </tr>\n",
       "    <tr>\n",
       "      <th>1996-2000</th>\n",
       "      <td>43</td>\n",
       "    </tr>\n",
       "  </tbody>\n",
       "</table>\n",
       "</div>"
      ],
      "text/plain": [
       "           Movies\n",
       "2001-2005      56\n",
       "2006-2010      55\n",
       "1990-1995      46\n",
       "1996-2000      43"
      ]
     },
     "metadata": {},
     "output_type": "display_data"
    }
   ],
   "source": [
    "bins_df = pd.DataFrame(df['Release year'])\n",
    "bins_df['Movies'] = pd.cut(x=bins_df['Release year'], bins=[1989, 1995, 2000, 2005, 2010], labels=['1990-1995', '1996-2000', '2001-2005', '2006-2010']).astype(str)\n",
    "bins_df = pd.DataFrame(bins_df['Movies'].value_counts())\n",
    "display(bins_df)\n",
    "bins_df.index.names = ['Years']\n",
    "bins_df.reset_index(inplace=True)"
   ]
  },
  {
   "cell_type": "code",
   "execution_count": 7,
   "metadata": {},
   "outputs": [
    {
     "data": {
      "application/vnd.jupyter.widget-view+json": {
       "model_id": "9e5d4a18e68c4f44894148d7fb38edc6",
       "version_major": 2,
       "version_minor": 0
      },
      "text/plain": [
       "interactive(children=(Dropdown(description='bins', options=(4, 10, 20), value=4), Output()), _dom_classes=('wi…"
      ]
     },
     "metadata": {},
     "output_type": "display_data"
    }
   ],
   "source": [
    "def year_histogram(bins):\n",
    "    fig = px.histogram(df, x=\"Release year\", nbins=bins)\n",
    "    fig.show()\n",
    "interact(year_histogram, bins=[4,10,20]);"
   ]
  },
  {
   "cell_type": "markdown",
   "metadata": {},
   "source": [
    "**The highest amount of the most popular crime films were shot between 2006 and 2010, the least between 1996 and 2000.**"
   ]
  },
  {
   "cell_type": "markdown",
   "metadata": {},
   "source": [
    "### Task 2.5. Are  the  movies  who  invested  the  highest  budget,  also  the  movies  who turned over the highest profit?"
   ]
  },
  {
   "cell_type": "code",
   "execution_count": 8,
   "metadata": {},
   "outputs": [
    {
     "data": {
      "application/vnd.jupyter.widget-view+json": {
       "model_id": "fdaea878644f451889e4bfac10f2fe5c",
       "version_major": 2,
       "version_minor": 0
      },
      "text/plain": [
       "interactive(children=(IntSlider(value=10, description='amount', max=20, min=5), Output()), _dom_classes=('widg…"
      ]
     },
     "metadata": {},
     "output_type": "display_data"
    }
   ],
   "source": [
    "def highest_budget(amount):\n",
    "    highest_budget_df = pd.DataFrame(df.sort_values(by='Budget', ascending=False)[['Movie', 'Budget']].head(amount)).reset_index(drop=True)\n",
    "    display(highest_budget_df)\n",
    "    fig = px.bar(highest_budget_df, x='Movie', y='Budget')\n",
    "    fig.show()\n",
    "interact(highest_budget, amount=widgets.IntSlider(min=5, max=20, step=1, value=10)); "
   ]
  },
  {
   "cell_type": "code",
   "execution_count": 9,
   "metadata": {},
   "outputs": [
    {
     "data": {
      "application/vnd.jupyter.widget-view+json": {
       "model_id": "573c134e0abf49a6bc6a12b41834f2e1",
       "version_major": 2,
       "version_minor": 0
      },
      "text/plain": [
       "interactive(children=(IntSlider(value=10, description='amount', max=20, min=5), Output()), _dom_classes=('widg…"
      ]
     },
     "metadata": {},
     "output_type": "display_data"
    }
   ],
   "source": [
    "def highest_profit(amount):\n",
    "    highest_profit_df = pd.DataFrame(df.sort_values(by='Box office', ascending=False)[['Movie', 'Box office']].head(10)).reset_index(drop=True)\n",
    "    display(highest_profit_df)\n",
    "    fig = px.bar(highest_profit_df, x='Movie', y='Box office')\n",
    "    fig.show()\n",
    "interact(highest_profit, amount=widgets.IntSlider(min=5, max=20, step=1, value=10)); "
   ]
  },
  {
   "cell_type": "markdown",
   "metadata": {},
   "source": [
    "**'Quantum of Solace', 'The Dark Knight', 'Batman Begins' and 'Ocean's Twelve' are in top 10 for both budget and box office.**"
   ]
  },
  {
   "cell_type": "markdown",
   "metadata": {},
   "source": [
    "### Task 2.6. Which directors have filmed the most films in Top 200 popular?"
   ]
  },
  {
   "cell_type": "code",
   "execution_count": 10,
   "metadata": {},
   "outputs": [
    {
     "data": {
      "application/vnd.jupyter.widget-view+json": {
       "model_id": "d682f1f564ae4386a068d4a627c926b8",
       "version_major": 2,
       "version_minor": 0
      },
      "text/plain": [
       "interactive(children=(IntSlider(value=10, description='amount', max=20, min=5), Output()), _dom_classes=('widg…"
      ]
     },
     "metadata": {},
     "output_type": "display_data"
    }
   ],
   "source": [
    "def most_movies(amount):\n",
    "    most_movies_df = pd.DataFrame(df['Director'].value_counts().head(amount))\n",
    "    most_movies_df.reset_index(inplace=True)\n",
    "    most_movies_df = most_movies_df.rename(columns={\"index\": \"Director\", \"Director\": \"Movies\"})\n",
    "    display(most_movies_df)\n",
    "    fig = px.bar(most_movies_df, x='Director', y='Movies')\n",
    "    fig.show()\n",
    "interact(most_movies, amount=widgets.IntSlider(min=5, max=20, step=1, value=10)); "
   ]
  },
  {
   "cell_type": "markdown",
   "metadata": {},
   "source": [
    "**Those are the only three (let's count Coen brothers as one) directors that have five movies in the list.**"
   ]
  },
  {
   "cell_type": "markdown",
   "metadata": {},
   "source": [
    "### Task 2.7. Which directors's movies have the highest average rating?"
   ]
  },
  {
   "cell_type": "code",
   "execution_count": 11,
   "metadata": {},
   "outputs": [
    {
     "data": {
      "application/vnd.jupyter.widget-view+json": {
       "model_id": "536ba80a82c6430e998fa414b3d5ab28",
       "version_major": 2,
       "version_minor": 0
      },
      "text/plain": [
       "interactive(children=(IntSlider(value=10, description='amount', max=20, min=5), Output()), _dom_classes=('widg…"
      ]
     },
     "metadata": {},
     "output_type": "display_data"
    }
   ],
   "source": [
    "grouped = df.groupby('Director')\n",
    "def highest_average_rating(amount):\n",
    "    highest_average_rating_df = pd.DataFrame(grouped['Rating'].mean()).sort_values(by='Rating', ascending=False).head(amount)\n",
    "    display(highest_average_rating_df)\n",
    "    highest_average_rating_df.reset_index(inplace=True)\n",
    "    fig = px.bar(highest_average_rating_df, x='Director', y='Rating')\n",
    "    fig.show()\n",
    "interact(highest_average_rating, amount=widgets.IntSlider(min=5, max=20, step=1, value=10)); "
   ]
  },
  {
   "cell_type": "markdown",
   "metadata": {},
   "source": [
    "### Task 2.8. Which directors' movies have the highest average popularity?"
   ]
  },
  {
   "cell_type": "code",
   "execution_count": 12,
   "metadata": {},
   "outputs": [
    {
     "data": {
      "application/vnd.jupyter.widget-view+json": {
       "model_id": "fd31dcb33cbd401fb82a4e03e7e6b066",
       "version_major": 2,
       "version_minor": 0
      },
      "text/plain": [
       "interactive(children=(IntSlider(value=10, description='amount', max=20, min=5), Output()), _dom_classes=('widg…"
      ]
     },
     "metadata": {},
     "output_type": "display_data"
    }
   ],
   "source": [
    "def highest_avg_popularity(amount):\n",
    "    highest_avg_popularity_df = pd.DataFrame(grouped['Popularity'].mean()).sort_values(by='Popularity', ascending=False).head(amount)\n",
    "    display(highest_avg_popularity_df)\n",
    "    highest_avg_popularity_df.reset_index(inplace=True)\n",
    "    fig = px.bar(highest_avg_popularity_df, x='Director', y='Popularity')\n",
    "    fig.show()\n",
    "interact(highest_avg_popularity, amount=widgets.IntSlider(min=5, max=20, step=1, value=10)); "
   ]
  },
  {
   "cell_type": "markdown",
   "metadata": {},
   "source": [
    "### Task 2.9. Which director has collected the most box office?"
   ]
  },
  {
   "cell_type": "code",
   "execution_count": 13,
   "metadata": {},
   "outputs": [
    {
     "data": {
      "application/vnd.jupyter.widget-view+json": {
       "model_id": "7eade5f7e1804a7287d741e49039560d",
       "version_major": 2,
       "version_minor": 0
      },
      "text/plain": [
       "interactive(children=(IntSlider(value=10, description='amount', max=20, min=5), Output()), _dom_classes=('widg…"
      ]
     },
     "metadata": {},
     "output_type": "display_data"
    }
   ],
   "source": [
    "def most_earned_director(amount):\n",
    "    most_earned_director_df = pd.DataFrame(grouped['Box office'].sum()).sort_values(by='Box office', ascending=False).head(amount)\n",
    "    display(most_earned_director_df)\n",
    "    most_earned_director_df.reset_index(inplace=True)\n",
    "    fig = px.bar(most_earned_director_df, x='Director', y='Box office')\n",
    "    fig.show()\n",
    "interact(most_earned_director, amount=widgets.IntSlider(min=5, max=20, step=1, value=10)); "
   ]
  },
  {
   "cell_type": "markdown",
   "metadata": {},
   "source": [
    "### Task 2.10. Which director has spent the most money?"
   ]
  },
  {
   "cell_type": "code",
   "execution_count": 14,
   "metadata": {},
   "outputs": [
    {
     "data": {
      "application/vnd.jupyter.widget-view+json": {
       "model_id": "e8a655828d2045edb36d5c4905bd397d",
       "version_major": 2,
       "version_minor": 0
      },
      "text/plain": [
       "interactive(children=(IntSlider(value=10, description='amount', max=20, min=5), Output()), _dom_classes=('widg…"
      ]
     },
     "metadata": {},
     "output_type": "display_data"
    }
   ],
   "source": [
    "def most_spent_director(amount):\n",
    "    most_spent_director_df = pd.DataFrame(grouped['Budget'].sum()).sort_values(by='Budget', ascending=False).head(amount)\n",
    "    display(most_spent_director_df)\n",
    "    most_spent_director_df.reset_index(inplace = True)\n",
    "    fig = px.bar(most_spent_director_df, x='Director', y='Budget')\n",
    "    fig.show()\n",
    "interact(most_spent_director, amount=widgets.IntSlider(min=5, max=20, step=1, value=10)); "
   ]
  },
  {
   "cell_type": "markdown",
   "metadata": {},
   "source": [
    "## Task 4. Data Presentation."
   ]
  },
  {
   "cell_type": "code",
   "execution_count": 16,
   "metadata": {},
   "outputs": [],
   "source": [
    "#!pip install voila"
   ]
  },
  {
   "cell_type": "markdown",
   "metadata": {},
   "source": [
    "I have not found a way to launch the dashboard directly from the notebook. To do it you would have to open the command prompt and type the following:\n",
    "\n",
    "**voila Exam.ipynb**\n",
    "\n",
    "The dashboard will open in the browser."
   ]
  },
  {
   "cell_type": "code",
   "execution_count": null,
   "metadata": {},
   "outputs": [],
   "source": []
  }
 ],
 "metadata": {
  "kernelspec": {
   "display_name": "Python 3",
   "language": "python",
   "name": "python3"
  },
  "language_info": {
   "codemirror_mode": {
    "name": "ipython",
    "version": 3
   },
   "file_extension": ".py",
   "mimetype": "text/x-python",
   "name": "python",
   "nbconvert_exporter": "python",
   "pygments_lexer": "ipython3",
   "version": "3.7.6"
  }
 },
 "nbformat": 4,
 "nbformat_minor": 4
}
